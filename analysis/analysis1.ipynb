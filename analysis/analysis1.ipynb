{
 "cells": [
  {
   "cell_type": "markdown",
   "source": [
    "# Benjamin Norton"
   ],
   "metadata": {}
  },
  {
   "cell_type": "markdown",
   "source": [
    "## Research question/interests\n",
    "\n",
    "Briefly describe your research question or interests here."
   ],
   "metadata": {}
  },
  {
   "cell_type": "markdown",
   "source": [
    "### Interest\n",
    "\n",
    "I plan to investigate the relationship between probable asteroid impacts and asteroid size. I want to investigate this because asteroids of different sizes can have varying levels of potential damage to the earth. A large asteroid has a higher potential for destruction and can cause widespread damage. In contrast, a smaller one may burn up upon entering the earth's atmosphere or land in a remote area. I plan to see if there are any correlations in this dataset and see if I can use that information to predict future impacts.\n",
    "<br>\n",
    "### Research question\n",
    "**Can we identify potentially hazardous asteroids (PHAs) based on their orbital parameters and physical characteristics?**\n",
    "<br>\n",
    "In order to answer this question I will first remove any duplicate or irrelevant data, fill in any missing values, and standardize units and formats across all variables and then merge the datasets into a single dataframe with the object name as the key.\n",
    "<br>\n",
    "I will then use the orbit axis, eccentricity, inclination, perihelion argument, node longitude, and other parameters to classify asteroids into different groups based on their likelihood of colliding with Earth (I can also use the impact data cumulative collision probability). I will then look at the asteroid diameter, velocity, and magnitude to estimate the potential impact energy and damage, thus, determining the PHA status of the asteroid."
   ],
   "metadata": {
    "collapsed": false
   }
  },
  {
   "cell_type": "markdown",
   "source": [
    "## Load data"
   ],
   "metadata": {
    "collapsed": false
   }
  },
  {
   "cell_type": "code",
   "execution_count": 11,
   "outputs": [],
   "source": [
    "import pandas as pd\n",
    "\n",
    "impacts = pd.read_csv(\"../data/raw/impacts.csv\")\n",
    "orbits = pd.read_csv(\"../data/raw/orbits.csv\")\n",
    "NEO = pd.read_csv(\"../data/raw/NEO_Earth_Close_Approaches.csv\")"
   ],
   "metadata": {
    "collapsed": false
   }
  },
  {
   "cell_type": "markdown",
   "source": [
    "## Data cleaning"
   ],
   "metadata": {
    "collapsed": false
   }
  },
  {
   "cell_type": "code",
   "execution_count": 12,
   "outputs": [],
   "source": [
    "impacts = impacts.drop_duplicates()\n",
    "impacts = impacts.dropna()\n",
    "impacts = impacts.reset_index(drop=True)\n",
    "\n",
    "orbits = orbits.drop_duplicates()\n",
    "orbits = orbits.dropna()\n",
    "orbits = orbits.reset_index(drop=True)\n",
    "\n",
    "NEO = NEO.drop_duplicates()\n",
    "NEO = NEO.dropna()\n",
    "NEO = NEO.reset_index(drop=True)\n",
    "NEO[\"Object Name\"] = NEO[\"Object\"].str.strip()\n",
    "NEO = NEO.drop(columns=[\"Object\"])\n",
    "\n",
    "impacts[\"Object Name\"] = impacts[\"Object Name\"].str.strip()\n",
    "orbits[\"Object Name\"] = orbits[\"Object Name\"].str.strip()"
   ],
   "metadata": {
    "collapsed": false
   }
  },
  {
   "cell_type": "markdown",
   "source": [
    "## Data merging"
   ],
   "metadata": {
    "collapsed": false
   }
  },
  {
   "cell_type": "code",
   "execution_count": null,
   "outputs": [],
   "source": [],
   "metadata": {
    "collapsed": false
   }
  }
 ],
 "metadata": {
  "orig_nbformat": 4,
  "language_info": {
   "name": "plaintext"
  }
 },
 "nbformat": 4,
 "nbformat_minor": 2
}
